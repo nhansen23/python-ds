{
 "cells": [
  {
   "cell_type": "markdown",
   "metadata": {},
   "source": [
    "### Course Code:    CSIS 44620 \n",
    "### Course Name:    Web Mining \n",
    "\n",
    "#### Student Name:   Nicole Hansen"
   ]
  },
  {
   "cell_type": "markdown",
   "metadata": {},
   "source": [
    "### Question 10"
   ]
  },
  {
   "cell_type": "code",
   "execution_count": 43,
   "metadata": {},
   "outputs": [
    {
     "name": "stdout",
     "output_type": "stream",
     "text": [
      "        \n",
      "x      x\n",
      "xx    xx\n",
      "xxx  xxx\n",
      "xxxxxxxx\n"
     ]
    }
   ],
   "source": [
    "#create drawing\n",
    "\n",
    "for x in range(0,5):\n",
    "    print(('x' * x)+(' ' * (8-2 * x))+('x' * x))\n",
    "        \n"
   ]
  }
 ],
 "metadata": {
  "kernelspec": {
   "display_name": ".venv",
   "language": "python",
   "name": "python3"
  },
  "language_info": {
   "codemirror_mode": {
    "name": "ipython",
    "version": 3
   },
   "file_extension": ".py",
   "mimetype": "text/x-python",
   "name": "python",
   "nbconvert_exporter": "python",
   "pygments_lexer": "ipython3",
   "version": "3.13.0"
  }
 },
 "nbformat": 4,
 "nbformat_minor": 2
}
